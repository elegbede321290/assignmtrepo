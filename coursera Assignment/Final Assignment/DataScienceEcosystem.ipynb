{
 "cells": [
  {
   "cell_type": "markdown",
   "id": "f61671a1-9c89-4731-88d1-18da2a15aa53",
   "metadata": {},
   "source": [
    "**Exercise 1: Create a new jupyter notebook called DataScienceEcosystem.ipybn**"
   ]
  },
  {
   "cell_type": "markdown",
   "id": "cb28b457-23eb-4255-9aab-8da5c72d9289",
   "metadata": {},
   "source": [
    "**DataScienceEcosystem.ipybn**"
   ]
  },
  {
   "cell_type": "markdown",
   "id": "4897434f-e220-49c0-aa03-34982045a2fb",
   "metadata": {},
   "source": [
    "**Exercise 2: Create mark down cell with the title of the notebook using H1 style Headings**"
   ]
  },
  {
   "cell_type": "markdown",
   "id": "eed1f038-bc8c-4647-94e7-0aa0cc9c9290",
   "metadata": {},
   "source": [
    "# H1: Data Science Tools and Ecosystem"
   ]
  },
  {
   "cell_type": "markdown",
   "id": "e56fa8b6-2de7-4a9b-96ab-e1f6c36f05b8",
   "metadata": {},
   "source": [
    "**Exercise 3: Create a mark down cell for an introduction**"
   ]
  },
  {
   "cell_type": "markdown",
   "id": "9f927fb0-8f79-42c4-a35a-ebfc0eb9556c",
   "metadata": {},
   "source": [
    "Write an introductory sentence about the notebook such as follows:"
   ]
  },
  {
   "cell_type": "markdown",
   "id": "b6d2b871-11ec-491d-a679-f86b73185734",
   "metadata": {},
   "source": [
    "In this notebook, Data Science Tools and Ecosystem are summarized."
   ]
  },
  {
   "cell_type": "markdown",
   "id": "55bd804e-ccbd-4197-a0ff-38c2e32facb1",
   "metadata": {},
   "source": [
    "**Objectives:**"
   ]
  },
  {
   "cell_type": "markdown",
   "id": "7d70eea5-defd-4593-a5c6-fc8433831b4b",
   "metadata": {},
   "source": [
    "* Jupyter Notebook\n",
    "* RStudio\n",
    "* GitHub"
   ]
  },
  {
   "cell_type": "markdown",
   "id": "90155476-b4d7-4a2b-b53c-decf767b01d0",
   "metadata": {},
   "source": [
    "**Exercise 4: Create a markdown cell to list Data Sciences Language**"
   ]
  },
  {
   "cell_type": "markdown",
   "id": "7965fea7-14a5-4e6b-baa0-810d19df4926",
   "metadata": {},
   "source": [
    "Start the cell with an over view line such as:"
   ]
  },
  {
   "cell_type": "markdown",
   "id": "a29cf8fc-0ddb-435e-92bd-7349ed9f6700",
   "metadata": {},
   "source": [
    "Some of the popular Languages that Data Scientists use are:"
   ]
  },
  {
   "cell_type": "markdown",
   "id": "b52d04e4-ee97-44f1-ae6b-8eb0208b1187",
   "metadata": {},
   "source": [
    "**Order List**\n",
    "1. JavaScript\n",
    "2. Python\n",
    "3. C++\n",
    "4. Java\n",
    "5. Scala\n",
    "6. Python\n",
    "7. R\n",
    "8. SQL"
   ]
  },
  {
   "cell_type": "markdown",
   "id": "171c3d56-39bf-435c-9a02-449835518669",
   "metadata": {},
   "source": [
    "**Exercise 5: Create a markdown cell to list data Science Libraries**"
   ]
  },
  {
   "cell_type": "markdown",
   "id": "7c6231e8-640d-4aec-8dc8-00c2123a129b",
   "metadata": {},
   "source": [
    "Add an overview line to the cell like:"
   ]
  },
  {
   "cell_type": "markdown",
   "id": "5ef95eef-09f7-4419-8fe9-681e3b6007dd",
   "metadata": {},
   "source": [
    "Some of the commonly used libraries used by Data Scientists include:"
   ]
  },
  {
   "cell_type": "markdown",
   "id": "c0d618b8-a5ed-4ac6-bc68-e2e964c3da70",
   "metadata": {},
   "source": [
    " **Order List**\n",
    "    1. Pandas\n",
    "    2. Numpsy\n",
    "    3. Scipy\n",
    "    4. Matplotlib"
   ]
  },
  {
   "cell_type": "markdown",
   "id": "f5638f48-2bbc-43da-b0f7-e80e3e89c354",
   "metadata": {},
   "source": [
    "**Exercise 6: Create a markdown cell with a table of Data Science Tools**"
   ]
  },
  {
   "cell_type": "markdown",
   "id": "91575ecf-ed8f-421c-abc1-abb3da960d44",
   "metadata": {},
   "source": [
    "Create a single column table in this cell with the first row containing the header Data Science Tools"
   ]
  },
  {
   "cell_type": "markdown",
   "id": "13cff383-f11b-4d60-a142-88a1f15753e5",
   "metadata": {},
   "source": [
    "# Data Science Tools"
   ]
  },
  {
   "cell_type": "markdown",
   "id": "dc8bcd2d-6a5b-45ab-b01f-17fea172b91f",
   "metadata": {},
   "source": [
    "|Data Management| Data intergration and Transformation|Data Visualization|\n",
    "| -------------- | -------------- | -------------- |\n",
    "| MySQL and PostSQL | Apache Airflow | Kibana |\n",
    "| MongoDB | Kuberflow | Apacher Superset |\n",
    "| Apache Couch DB | Apache Kafka | Dust |\n",
    "| Apache Cassandra | Apache Nifi | Pixie dust |"
   ]
  },
  {
   "cell_type": "markdown",
   "id": "d3c6ecdf-598d-4975-9a85-1cee7cddcfcb",
   "metadata": {},
   "source": [
    "**Exercise 7: Create a code cell introducing arithmetics expression examples**"
   ]
  },
  {
   "cell_type": "markdown",
   "id": "b93fc0e7-4e30-44cc-8e5e-1bcffc8bfac3",
   "metadata": {},
   "source": [
    "Add a line in this cell with H3 style Heading with text like:"
   ]
  },
  {
   "cell_type": "markdown",
   "id": "a9b87b22-48a8-4f03-9212-85049ce259ca",
   "metadata": {},
   "source": [
    "### H3: Below are a few examples of evaluating arithmetics expression in python"
   ]
  },
  {
   "cell_type": "markdown",
   "id": "bed0101b-ab4f-4c07-8a9f-9b1962411c6b",
   "metadata": {},
   "source": [
    "**Exercise 8: Create a code cell to multiply and add numbers**"
   ]
  },
  {
   "cell_type": "markdown",
   "id": "399ef359-a86d-4e61-9d7d-ac0d6f66261e",
   "metadata": {},
   "source": [
    "This is a simple arithmetic expression to multiply then add intergers"
   ]
  },
  {
   "cell_type": "code",
   "execution_count": 2,
   "id": "745f7b61-8f31-4a8b-802a-8088b1b697c8",
   "metadata": {},
   "outputs": [
    {
     "data": {
      "text/plain": [
       "17"
      ]
     },
     "execution_count": 2,
     "metadata": {},
     "output_type": "execute_result"
    }
   ],
   "source": [
    "(3*4)+5"
   ]
  },
  {
   "cell_type": "markdown",
   "id": "b722e9a7-e2e8-4575-bfa9-d24f75aa8a2d",
   "metadata": {},
   "source": [
    "**Exercise 9: Create a code cell to convert minutes to hours**"
   ]
  },
  {
   "cell_type": "markdown",
   "id": "10ff7de2-a8f0-4c47-9b8a-06909bc829a1",
   "metadata": {},
   "source": [
    "This will convert 200 minutes to hours by dividing by 60"
   ]
  },
  {
   "cell_type": "code",
   "execution_count": 5,
   "id": "ab49d1ac-1c8b-43ce-abda-a4bef7e2f8f7",
   "metadata": {},
   "outputs": [
    {
     "data": {
      "text/plain": [
       "3.3333333333333335"
      ]
     },
     "execution_count": 5,
     "metadata": {},
     "output_type": "execute_result"
    }
   ],
   "source": [
    "200/60"
   ]
  },
  {
   "cell_type": "markdown",
   "id": "528d220a-d2c4-446a-a3d2-f3f499203a66",
   "metadata": {},
   "source": [
    "**Exercise 10: Insert markdown cell to list objectives**"
   ]
  },
  {
   "cell_type": "markdown",
   "id": "81726e78-0536-4eb6-8d51-d8ac47dcc16c",
   "metadata": {},
   "source": [
    "Below the introduction cell created in Exercise 3, insert a new markdown cell to list the objectives that this notebook covered (i.e. some of the key takeaways from the course). In this new cell start with an introductory line titled: Objectives: in bold font. Then using an Unordered list (bullets) indicate 3 to 5 items covered in this notebook, such as List popular languages for Data Science"
   ]
  },
  {
   "cell_type": "markdown",
   "id": "c5d36896-011a-469b-acd2-af1dc0840d5a",
   "metadata": {},
   "source": [
    "**Exercise 11: Create a markdown cell to indicate the Author's name**"
   ]
  },
  {
   "cell_type": "markdown",
   "id": "c18bc0a2-de6c-47f9-ba1a-0d2f742a9001",
   "metadata": {},
   "source": [
    "In this markdown cell markdown cell include the following text Author in H2 style heading. Include your name as regular text below the word Author."
   ]
  },
  {
   "cell_type": "markdown",
   "id": "ca8d9ac9-4401-4569-b76f-b6e8bf9edb1a",
   "metadata": {},
   "source": [
    "## H2: Author"
   ]
  },
  {
   "cell_type": "markdown",
   "id": "d44ad82c-c0de-42ec-a87d-eaaceaa9bc54",
   "metadata": {},
   "source": [
    "Elegbede Adewunmi Victoria"
   ]
  },
  {
   "cell_type": "markdown",
   "id": "d3893b64-cb91-4d39-907a-761825e2bf02",
   "metadata": {},
   "source": [
    "**Exercise 12: Share your notebook through GitHub**"
   ]
  },
  {
   "cell_type": "markdown",
   "id": "39d6be88-b94e-4e88-8d54-b9ab20d7dc8c",
   "metadata": {},
   "source": [
    "Upload your notebook to a public respository on **GitHub**"
   ]
  },
  {
   "cell_type": "markdown",
   "id": "06bc39e6-9d64-4f03-a764-c683526c578d",
   "metadata": {},
   "source": [
    "**Exercise 13: Take a screenshot of the first page of the notebook and save it as 1-notebook.png**"
   ]
  },
  {
   "cell_type": "code",
   "execution_count": null,
   "id": "17604b53-3688-4788-bec9-275d5e500271",
   "metadata": {},
   "outputs": [],
   "source": []
  }
 ],
 "metadata": {
  "kernelspec": {
   "display_name": "Python 3 (ipykernel)",
   "language": "python",
   "name": "python3"
  },
  "language_info": {
   "codemirror_mode": {
    "name": "ipython",
    "version": 3
   },
   "file_extension": ".py",
   "mimetype": "text/x-python",
   "name": "python",
   "nbconvert_exporter": "python",
   "pygments_lexer": "ipython3",
   "version": "3.10.9"
  }
 },
 "nbformat": 4,
 "nbformat_minor": 5
}
